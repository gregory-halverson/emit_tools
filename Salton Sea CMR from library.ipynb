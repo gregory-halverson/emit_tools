{
 "cells": [
  {
   "cell_type": "code",
   "execution_count": 1,
   "metadata": {
    "tags": []
   },
   "outputs": [],
   "source": [
    "from typing import Union\n",
    "import os\n",
    "from os.path import join\n",
    "import requests\n",
    "import earthaccess\n",
    "import pandas as pd\n",
    "import datetime as dt\n",
    "from datetime import date\n",
    "from dateutil import parser\n",
    "import geopandas\n",
    "import geopandas as gpd\n",
    "from shapely.geometry import MultiPolygon, Polygon, box\n",
    "from shapely.geometry.polygon import orient\n",
    "from sentinel_tiles import sentinel_tiles\n",
    "from emit_tools.generate_CMR_daterange_string import generate_CMR_daterange_string\n",
    "from emit_tools.search_EMIT_L2A_reflectance import search_EMIT_L2A_reflectance\n",
    "from emit_tools.download_file import download_file\n",
    "from emit_tools.download_scene import download_scene"
   ]
  },
  {
   "cell_type": "code",
   "execution_count": 2,
   "metadata": {},
   "outputs": [],
   "source": [
    "geojson_filename = \"11SPS.geojson\"\n",
    "start_date = \"2024-05-01\"\n",
    "end_date = \"2024-05-30\""
   ]
  },
  {
   "cell_type": "code",
   "execution_count": 3,
   "metadata": {},
   "outputs": [],
   "source": [
    "# start_date = \"2025-05-01\"\n",
    "# end_date = \"2025-05-30\""
   ]
  },
  {
   "cell_type": "code",
   "execution_count": 4,
   "metadata": {},
   "outputs": [],
   "source": [
    "# polygon = sentinel_tiles.footprint(\"11SPS\")\n",
    "# polygon.wkt"
   ]
  },
  {
   "cell_type": "code",
   "execution_count": 5,
   "metadata": {},
   "outputs": [
    {
     "data": {
      "text/plain": [
       "{\n",
       "  \"dimensions\": {\n",
       "    \"rows\": 1830,\n",
       "    \"cols\": 1830\n",
       "  },\n",
       "  \"bbox\": {\n",
       "    \"xmin\": 600000.0,\n",
       "    \"ymin\": 3590220.0,\n",
       "    \"xmax\": 709800.0,\n",
       "    \"ymax\": 3700020.0\n",
       "  },\n",
       "  \"crs\": \"EPSG:32611\",\n",
       "  \"resolution\": {\n",
       "    \"cell_width\": 60.0,\n",
       "    \"cell_height\": -60.0\n",
       "  }\n",
       "}"
      ]
     },
     "execution_count": 5,
     "metadata": {},
     "output_type": "execute_result"
    }
   ],
   "source": [
    "grid = sentinel_tiles.grid(\"11SPS\", 60)\n",
    "grid"
   ]
  },
  {
   "cell_type": "code",
   "execution_count": 6,
   "metadata": {},
   "outputs": [
    {
     "data": {
      "text/html": [
       "<div>\n",
       "<style scoped>\n",
       "    .dataframe tbody tr th:only-of-type {\n",
       "        vertical-align: middle;\n",
       "    }\n",
       "\n",
       "    .dataframe tbody tr th {\n",
       "        vertical-align: top;\n",
       "    }\n",
       "\n",
       "    .dataframe thead th {\n",
       "        text-align: right;\n",
       "    }\n",
       "</style>\n",
       "<table border=\"1\" class=\"dataframe\">\n",
       "  <thead>\n",
       "    <tr style=\"text-align: right;\">\n",
       "      <th></th>\n",
       "      <th>date_UTC</th>\n",
       "      <th>product</th>\n",
       "      <th>filename</th>\n",
       "      <th>URL</th>\n",
       "      <th>cloud_percent</th>\n",
       "      <th>level</th>\n",
       "      <th>datetime_UTC</th>\n",
       "      <th>orbit</th>\n",
       "      <th>scene</th>\n",
       "      <th>collection</th>\n",
       "      <th>type</th>\n",
       "      <th>geometry</th>\n",
       "    </tr>\n",
       "  </thead>\n",
       "  <tbody>\n",
       "    <tr>\n",
       "      <th>0</th>\n",
       "      <td>2024-05-21</td>\n",
       "      <td>L2A_RFL</td>\n",
       "      <td>EMIT_L2A_RFL_001_20240521T232716_2414216_002.nc</td>\n",
       "      <td>https://data.lpdaac.earthdatacloud.nasa.gov/lp...</td>\n",
       "      <td>30</td>\n",
       "      <td>L2A</td>\n",
       "      <td>2024-05-21 23:27:16</td>\n",
       "      <td>2414216</td>\n",
       "      <td>2</td>\n",
       "      <td>1</td>\n",
       "      <td>data</td>\n",
       "      <td>MULTIPOLYGON (((-115.98626 33.5353, -116.72288...</td>\n",
       "    </tr>\n",
       "    <tr>\n",
       "      <th>1</th>\n",
       "      <td>2024-05-21</td>\n",
       "      <td>L2A_RFLUNCERT</td>\n",
       "      <td>EMIT_L2A_RFLUNCERT_001_20240521T232716_2414216...</td>\n",
       "      <td>https://data.lpdaac.earthdatacloud.nasa.gov/lp...</td>\n",
       "      <td>30</td>\n",
       "      <td>L2A</td>\n",
       "      <td>2024-05-21 23:27:16</td>\n",
       "      <td>2414216</td>\n",
       "      <td>2</td>\n",
       "      <td>1</td>\n",
       "      <td>data</td>\n",
       "      <td>MULTIPOLYGON (((-115.98626 33.5353, -116.72288...</td>\n",
       "    </tr>\n",
       "    <tr>\n",
       "      <th>2</th>\n",
       "      <td>2024-05-21</td>\n",
       "      <td>L2A_MASK</td>\n",
       "      <td>EMIT_L2A_MASK_001_20240521T232716_2414216_002.nc</td>\n",
       "      <td>https://data.lpdaac.earthdatacloud.nasa.gov/lp...</td>\n",
       "      <td>30</td>\n",
       "      <td>L2A</td>\n",
       "      <td>2024-05-21 23:27:16</td>\n",
       "      <td>2414216</td>\n",
       "      <td>2</td>\n",
       "      <td>1</td>\n",
       "      <td>data</td>\n",
       "      <td>MULTIPOLYGON (((-115.98626 33.5353, -116.72288...</td>\n",
       "    </tr>\n",
       "    <tr>\n",
       "      <th>3</th>\n",
       "      <td>2024-05-21</td>\n",
       "      <td>L2A_RFL</td>\n",
       "      <td>EMIT_L2A_RFL_001_20240521T232716_2414216_002.png</td>\n",
       "      <td>https://data.lpdaac.earthdatacloud.nasa.gov/lp...</td>\n",
       "      <td>30</td>\n",
       "      <td>L2A</td>\n",
       "      <td>2024-05-21 23:27:16</td>\n",
       "      <td>2414216</td>\n",
       "      <td>2</td>\n",
       "      <td>1</td>\n",
       "      <td>browse</td>\n",
       "      <td>MULTIPOLYGON (((-115.98626 33.5353, -116.72288...</td>\n",
       "    </tr>\n",
       "    <tr>\n",
       "      <th>0</th>\n",
       "      <td>2024-05-21</td>\n",
       "      <td>L2A_RFL</td>\n",
       "      <td>EMIT_L2A_RFL_001_20240521T232728_2414216_003.nc</td>\n",
       "      <td>https://data.lpdaac.earthdatacloud.nasa.gov/lp...</td>\n",
       "      <td>20</td>\n",
       "      <td>L2A</td>\n",
       "      <td>2024-05-21 23:27:28</td>\n",
       "      <td>2414216</td>\n",
       "      <td>3</td>\n",
       "      <td>1</td>\n",
       "      <td>data</td>\n",
       "      <td>MULTIPOLYGON (((-115.34624 34.05475, -116.1037...</td>\n",
       "    </tr>\n",
       "    <tr>\n",
       "      <th>1</th>\n",
       "      <td>2024-05-21</td>\n",
       "      <td>L2A_RFLUNCERT</td>\n",
       "      <td>EMIT_L2A_RFLUNCERT_001_20240521T232728_2414216...</td>\n",
       "      <td>https://data.lpdaac.earthdatacloud.nasa.gov/lp...</td>\n",
       "      <td>20</td>\n",
       "      <td>L2A</td>\n",
       "      <td>2024-05-21 23:27:28</td>\n",
       "      <td>2414216</td>\n",
       "      <td>3</td>\n",
       "      <td>1</td>\n",
       "      <td>data</td>\n",
       "      <td>MULTIPOLYGON (((-115.34624 34.05475, -116.1037...</td>\n",
       "    </tr>\n",
       "    <tr>\n",
       "      <th>2</th>\n",
       "      <td>2024-05-21</td>\n",
       "      <td>L2A_MASK</td>\n",
       "      <td>EMIT_L2A_MASK_001_20240521T232728_2414216_003.nc</td>\n",
       "      <td>https://data.lpdaac.earthdatacloud.nasa.gov/lp...</td>\n",
       "      <td>20</td>\n",
       "      <td>L2A</td>\n",
       "      <td>2024-05-21 23:27:28</td>\n",
       "      <td>2414216</td>\n",
       "      <td>3</td>\n",
       "      <td>1</td>\n",
       "      <td>data</td>\n",
       "      <td>MULTIPOLYGON (((-115.34624 34.05475, -116.1037...</td>\n",
       "    </tr>\n",
       "    <tr>\n",
       "      <th>3</th>\n",
       "      <td>2024-05-21</td>\n",
       "      <td>L2A_RFL</td>\n",
       "      <td>EMIT_L2A_RFL_001_20240521T232728_2414216_003.png</td>\n",
       "      <td>https://data.lpdaac.earthdatacloud.nasa.gov/lp...</td>\n",
       "      <td>20</td>\n",
       "      <td>L2A</td>\n",
       "      <td>2024-05-21 23:27:28</td>\n",
       "      <td>2414216</td>\n",
       "      <td>3</td>\n",
       "      <td>1</td>\n",
       "      <td>browse</td>\n",
       "      <td>MULTIPOLYGON (((-115.34624 34.05475, -116.1037...</td>\n",
       "    </tr>\n",
       "    <tr>\n",
       "      <th>0</th>\n",
       "      <td>2024-05-21</td>\n",
       "      <td>L2A_RFL</td>\n",
       "      <td>EMIT_L2A_RFL_001_20240521T232740_2414216_004.nc</td>\n",
       "      <td>https://data.lpdaac.earthdatacloud.nasa.gov/lp...</td>\n",
       "      <td>8</td>\n",
       "      <td>L2A</td>\n",
       "      <td>2024-05-21 23:27:40</td>\n",
       "      <td>2414216</td>\n",
       "      <td>4</td>\n",
       "      <td>1</td>\n",
       "      <td>data</td>\n",
       "      <td>MULTIPOLYGON (((-114.70493 34.57001, -115.4730...</td>\n",
       "    </tr>\n",
       "    <tr>\n",
       "      <th>1</th>\n",
       "      <td>2024-05-21</td>\n",
       "      <td>L2A_RFLUNCERT</td>\n",
       "      <td>EMIT_L2A_RFLUNCERT_001_20240521T232740_2414216...</td>\n",
       "      <td>https://data.lpdaac.earthdatacloud.nasa.gov/lp...</td>\n",
       "      <td>8</td>\n",
       "      <td>L2A</td>\n",
       "      <td>2024-05-21 23:27:40</td>\n",
       "      <td>2414216</td>\n",
       "      <td>4</td>\n",
       "      <td>1</td>\n",
       "      <td>data</td>\n",
       "      <td>MULTIPOLYGON (((-114.70493 34.57001, -115.4730...</td>\n",
       "    </tr>\n",
       "    <tr>\n",
       "      <th>2</th>\n",
       "      <td>2024-05-21</td>\n",
       "      <td>L2A_MASK</td>\n",
       "      <td>EMIT_L2A_MASK_001_20240521T232740_2414216_004.nc</td>\n",
       "      <td>https://data.lpdaac.earthdatacloud.nasa.gov/lp...</td>\n",
       "      <td>8</td>\n",
       "      <td>L2A</td>\n",
       "      <td>2024-05-21 23:27:40</td>\n",
       "      <td>2414216</td>\n",
       "      <td>4</td>\n",
       "      <td>1</td>\n",
       "      <td>data</td>\n",
       "      <td>MULTIPOLYGON (((-114.70493 34.57001, -115.4730...</td>\n",
       "    </tr>\n",
       "    <tr>\n",
       "      <th>3</th>\n",
       "      <td>2024-05-21</td>\n",
       "      <td>L2A_RFL</td>\n",
       "      <td>EMIT_L2A_RFL_001_20240521T232740_2414216_004.png</td>\n",
       "      <td>https://data.lpdaac.earthdatacloud.nasa.gov/lp...</td>\n",
       "      <td>8</td>\n",
       "      <td>L2A</td>\n",
       "      <td>2024-05-21 23:27:40</td>\n",
       "      <td>2414216</td>\n",
       "      <td>4</td>\n",
       "      <td>1</td>\n",
       "      <td>browse</td>\n",
       "      <td>MULTIPOLYGON (((-114.70493 34.57001, -115.4730...</td>\n",
       "    </tr>\n",
       "  </tbody>\n",
       "</table>\n",
       "</div>"
      ],
      "text/plain": [
       "     date_UTC        product  \\\n",
       "0  2024-05-21        L2A_RFL   \n",
       "1  2024-05-21  L2A_RFLUNCERT   \n",
       "2  2024-05-21       L2A_MASK   \n",
       "3  2024-05-21        L2A_RFL   \n",
       "0  2024-05-21        L2A_RFL   \n",
       "1  2024-05-21  L2A_RFLUNCERT   \n",
       "2  2024-05-21       L2A_MASK   \n",
       "3  2024-05-21        L2A_RFL   \n",
       "0  2024-05-21        L2A_RFL   \n",
       "1  2024-05-21  L2A_RFLUNCERT   \n",
       "2  2024-05-21       L2A_MASK   \n",
       "3  2024-05-21        L2A_RFL   \n",
       "\n",
       "                                            filename  \\\n",
       "0    EMIT_L2A_RFL_001_20240521T232716_2414216_002.nc   \n",
       "1  EMIT_L2A_RFLUNCERT_001_20240521T232716_2414216...   \n",
       "2   EMIT_L2A_MASK_001_20240521T232716_2414216_002.nc   \n",
       "3   EMIT_L2A_RFL_001_20240521T232716_2414216_002.png   \n",
       "0    EMIT_L2A_RFL_001_20240521T232728_2414216_003.nc   \n",
       "1  EMIT_L2A_RFLUNCERT_001_20240521T232728_2414216...   \n",
       "2   EMIT_L2A_MASK_001_20240521T232728_2414216_003.nc   \n",
       "3   EMIT_L2A_RFL_001_20240521T232728_2414216_003.png   \n",
       "0    EMIT_L2A_RFL_001_20240521T232740_2414216_004.nc   \n",
       "1  EMIT_L2A_RFLUNCERT_001_20240521T232740_2414216...   \n",
       "2   EMIT_L2A_MASK_001_20240521T232740_2414216_004.nc   \n",
       "3   EMIT_L2A_RFL_001_20240521T232740_2414216_004.png   \n",
       "\n",
       "                                                 URL cloud_percent level  \\\n",
       "0  https://data.lpdaac.earthdatacloud.nasa.gov/lp...            30   L2A   \n",
       "1  https://data.lpdaac.earthdatacloud.nasa.gov/lp...            30   L2A   \n",
       "2  https://data.lpdaac.earthdatacloud.nasa.gov/lp...            30   L2A   \n",
       "3  https://data.lpdaac.earthdatacloud.nasa.gov/lp...            30   L2A   \n",
       "0  https://data.lpdaac.earthdatacloud.nasa.gov/lp...            20   L2A   \n",
       "1  https://data.lpdaac.earthdatacloud.nasa.gov/lp...            20   L2A   \n",
       "2  https://data.lpdaac.earthdatacloud.nasa.gov/lp...            20   L2A   \n",
       "3  https://data.lpdaac.earthdatacloud.nasa.gov/lp...            20   L2A   \n",
       "0  https://data.lpdaac.earthdatacloud.nasa.gov/lp...             8   L2A   \n",
       "1  https://data.lpdaac.earthdatacloud.nasa.gov/lp...             8   L2A   \n",
       "2  https://data.lpdaac.earthdatacloud.nasa.gov/lp...             8   L2A   \n",
       "3  https://data.lpdaac.earthdatacloud.nasa.gov/lp...             8   L2A   \n",
       "\n",
       "         datetime_UTC    orbit  scene  collection    type  \\\n",
       "0 2024-05-21 23:27:16  2414216      2           1    data   \n",
       "1 2024-05-21 23:27:16  2414216      2           1    data   \n",
       "2 2024-05-21 23:27:16  2414216      2           1    data   \n",
       "3 2024-05-21 23:27:16  2414216      2           1  browse   \n",
       "0 2024-05-21 23:27:28  2414216      3           1    data   \n",
       "1 2024-05-21 23:27:28  2414216      3           1    data   \n",
       "2 2024-05-21 23:27:28  2414216      3           1    data   \n",
       "3 2024-05-21 23:27:28  2414216      3           1  browse   \n",
       "0 2024-05-21 23:27:40  2414216      4           1    data   \n",
       "1 2024-05-21 23:27:40  2414216      4           1    data   \n",
       "2 2024-05-21 23:27:40  2414216      4           1    data   \n",
       "3 2024-05-21 23:27:40  2414216      4           1  browse   \n",
       "\n",
       "                                            geometry  \n",
       "0  MULTIPOLYGON (((-115.98626 33.5353, -116.72288...  \n",
       "1  MULTIPOLYGON (((-115.98626 33.5353, -116.72288...  \n",
       "2  MULTIPOLYGON (((-115.98626 33.5353, -116.72288...  \n",
       "3  MULTIPOLYGON (((-115.98626 33.5353, -116.72288...  \n",
       "0  MULTIPOLYGON (((-115.34624 34.05475, -116.1037...  \n",
       "1  MULTIPOLYGON (((-115.34624 34.05475, -116.1037...  \n",
       "2  MULTIPOLYGON (((-115.34624 34.05475, -116.1037...  \n",
       "3  MULTIPOLYGON (((-115.34624 34.05475, -116.1037...  \n",
       "0  MULTIPOLYGON (((-114.70493 34.57001, -115.4730...  \n",
       "1  MULTIPOLYGON (((-114.70493 34.57001, -115.4730...  \n",
       "2  MULTIPOLYGON (((-114.70493 34.57001, -115.4730...  \n",
       "3  MULTIPOLYGON (((-114.70493 34.57001, -115.4730...  "
      ]
     },
     "execution_count": 6,
     "metadata": {},
     "output_type": "execute_result"
    }
   ],
   "source": [
    "df = search_EMIT_L2A_reflectance(\n",
    "    start_date=start_date, \n",
    "    end_date=end_date, \n",
    "    target_area=grid\n",
    ")\n",
    "\n",
    "df"
   ]
  },
  {
   "cell_type": "code",
   "execution_count": 7,
   "metadata": {},
   "outputs": [
    {
     "data": {
      "text/plain": [
       "'https://data.lpdaac.earthdatacloud.nasa.gov/lp-prod-protected/EMITL2ARFL.001/EMIT_L2A_RFL_001_20240521T232716_2414216_002/EMIT_L2A_RFL_001_20240521T232716_2414216_002.nc'"
      ]
     },
     "execution_count": 7,
     "metadata": {},
     "output_type": "execute_result"
    }
   ],
   "source": [
    "URL = df.iloc[0].URL\n",
    "URL"
   ]
  },
  {
   "cell_type": "code",
   "execution_count": 8,
   "metadata": {},
   "outputs": [
    {
     "data": {
      "text/plain": [
       "'EMIT_L2A_RFL_001_20240521T232716_2414216_002.nc'"
      ]
     },
     "execution_count": 8,
     "metadata": {},
     "output_type": "execute_result"
    }
   ],
   "source": [
    "filename_base = df.iloc[0].filename\n",
    "filename_base"
   ]
  },
  {
   "cell_type": "code",
   "execution_count": 9,
   "metadata": {},
   "outputs": [
    {
     "data": {
      "text/plain": [
       "'~/data/EMIT_download/EMIT_L2A_RFL_001_20240521T232716_2414216_002.nc'"
      ]
     },
     "execution_count": 9,
     "metadata": {},
     "output_type": "execute_result"
    }
   ],
   "source": [
    "filename = join(\"~/data/EMIT_download\", filename_base)\n",
    "filename"
   ]
  },
  {
   "cell_type": "code",
   "execution_count": 10,
   "metadata": {},
   "outputs": [
    {
     "name": "stdout",
     "output_type": "stream",
     "text": [
      "[2024-10-25 14:50:59 INFO] File already downloaded: \u001b[34m~/data/EMIT_download/EMIT_L2A_RFL_001_20240521T232716_2414216_002.nc\u001b[0m\n"
     ]
    },
    {
     "data": {
      "text/plain": [
       "'~/data/EMIT_download/EMIT_L2A_RFL_001_20240521T232716_2414216_002.nc'"
      ]
     },
     "execution_count": 10,
     "metadata": {},
     "output_type": "execute_result"
    }
   ],
   "source": [
    "download_file(URL, filename)"
   ]
  },
  {
   "cell_type": "code",
   "execution_count": 13,
   "metadata": {},
   "outputs": [],
   "source": [
    "directory = \"~/data/EMIT_download/scene_directory\""
   ]
  },
  {
   "cell_type": "code",
   "execution_count": 14,
   "metadata": {},
   "outputs": [
    {
     "name": "stdout",
     "output_type": "stream",
     "text": [
      "https://data.lpdaac.earthdatacloud.nasa.gov/lp-prod-protected/EMITL2ARFL.001/EMIT_L2A_RFL_001_20240521T232716_2414216_002/EMIT_L2A_RFL_001_20240521T232716_2414216_002.nc\n",
      "[2024-10-25 14:50:59 INFO] File already downloaded: \u001b[34m~/data/EMIT_download/scene_directory/EMIT_L2A_RFL_001_20240521T232716_2414216_002.nc\u001b[0m\n",
      "https://data.lpdaac.earthdatacloud.nasa.gov/lp-prod-protected/EMITL2ARFL.001/EMIT_L2A_RFL_001_20240521T232716_2414216_002/EMIT_L2A_RFLUNCERT_001_20240521T232716_2414216_002.nc\n",
      "[2024-10-25 14:50:59 INFO] File already downloaded: \u001b[34m~/data/EMIT_download/scene_directory/EMIT_L2A_RFLUNCERT_001_20240521T232716_2414216_002.nc\u001b[0m\n",
      "https://data.lpdaac.earthdatacloud.nasa.gov/lp-prod-protected/EMITL2ARFL.001/EMIT_L2A_RFL_001_20240521T232716_2414216_002/EMIT_L2A_MASK_001_20240521T232716_2414216_002.nc\n",
      "[2024-10-25 14:50:59 INFO] File already downloaded: \u001b[34m~/data/EMIT_download/scene_directory/EMIT_L2A_MASK_001_20240521T232716_2414216_002.nc\u001b[0m\n",
      "https://data.lpdaac.earthdatacloud.nasa.gov/lp-prod-public/EMITL2ARFL.001/EMIT_L2A_RFL_001_20240521T232716_2414216_002/EMIT_L2A_RFL_001_20240521T232716_2414216_002.png\n",
      "[2024-10-25 14:50:59 INFO] File already downloaded: \u001b[34m~/data/EMIT_download/scene_directory/EMIT_L2A_RFL_001_20240521T232716_2414216_002.png\u001b[0m\n"
     ]
    },
    {
     "data": {
      "text/plain": [
       "['~/data/EMIT_download/scene_directory/EMIT_L2A_RFL_001_20240521T232716_2414216_002.nc',\n",
       " '~/data/EMIT_download/scene_directory/EMIT_L2A_RFLUNCERT_001_20240521T232716_2414216_002.nc',\n",
       " '~/data/EMIT_download/scene_directory/EMIT_L2A_MASK_001_20240521T232716_2414216_002.nc',\n",
       " '~/data/EMIT_download/scene_directory/EMIT_L2A_RFL_001_20240521T232716_2414216_002.png']"
      ]
     },
     "execution_count": 14,
     "metadata": {},
     "output_type": "execute_result"
    }
   ],
   "source": [
    "download_scene(df, directory, 2414216, 2)"
   ]
  },
  {
   "cell_type": "code",
   "execution_count": null,
   "metadata": {},
   "outputs": [],
   "source": []
  }
 ],
 "metadata": {
  "kernelspec": {
   "display_name": "earthaccess",
   "language": "python",
   "name": "python3"
  },
  "language_info": {
   "codemirror_mode": {
    "name": "ipython",
    "version": 3
   },
   "file_extension": ".py",
   "mimetype": "text/x-python",
   "name": "python",
   "nbconvert_exporter": "python",
   "pygments_lexer": "ipython3",
   "version": "3.11.10"
  }
 },
 "nbformat": 4,
 "nbformat_minor": 4
}

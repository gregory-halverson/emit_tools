{
 "cells": [
  {
   "cell_type": "code",
   "execution_count": 1,
   "metadata": {
    "tags": []
   },
   "outputs": [],
   "source": [
    "from typing import Union\n",
    "import os\n",
    "from os.path import join\n",
    "import requests\n",
    "import earthaccess\n",
    "import pandas as pd\n",
    "import datetime as dt\n",
    "from datetime import date\n",
    "from dateutil import parser\n",
    "import geopandas\n",
    "import geopandas as gpd\n",
    "from shapely.geometry import MultiPolygon, Polygon, box\n",
    "from shapely.geometry.polygon import orient\n",
    "from sentinel_tiles import sentinel_tiles\n",
    "from emit_tools.generate_CMR_daterange_string import generate_CMR_daterange_string\n",
    "from emit_tools.search_EMIT_L2A_reflectance import search_EMIT_L2A_reflectance\n",
    "from emit_tools.download_file import download_file\n",
    "from emit_tools.download_EMIT_L2A_scene import download_EMIT_L2A_scene\n",
    "from emit_tools.find_concept_ID import find_concept_ID\n",
    "from emit_tools.CMR_collection_search_short_name_URL import CMR_collection_search_short_name_URL\n",
    "from emit_tools.CMR_collection_search_DOI_URL import CMR_collection_search_DOI_URL\n",
    "from emit_tools.concept_ID_from_short_name import concept_ID_from_short_name\n",
    "from emit_tools.concept_ID_from_DOI import concept_ID_from_DOI\n",
    "from emit_tools.constants import *"
   ]
  },
  {
   "cell_type": "code",
   "execution_count": 2,
   "metadata": {},
   "outputs": [],
   "source": [
    "geojson_filename = \"11SPS.geojson\"\n",
    "start_date = \"2023-06-01\"\n",
    "end_date = \"2024-05-30\""
   ]
  },
  {
   "cell_type": "code",
   "execution_count": 3,
   "metadata": {},
   "outputs": [
    {
     "data": {
      "text/plain": [
       "'POLYGON ((-115.92423373599996 33.43490918800006, -114.74363157999994 33.419046707000064, -114.76862412 32.429359161000036, -115.93615876899997 32.444635394000045, -115.92423373599996 33.43490918800006))'"
      ]
     },
     "execution_count": 3,
     "metadata": {},
     "output_type": "execute_result"
    }
   ],
   "source": [
    "polygon = sentinel_tiles.footprint(\"11SPS\")\n",
    "polygon.wkt"
   ]
  },
  {
   "cell_type": "code",
   "execution_count": 4,
   "metadata": {},
   "outputs": [
    {
     "data": {
      "text/html": [
       "<div>\n",
       "<style scoped>\n",
       "    .dataframe tbody tr th:only-of-type {\n",
       "        vertical-align: middle;\n",
       "    }\n",
       "\n",
       "    .dataframe tbody tr th {\n",
       "        vertical-align: top;\n",
       "    }\n",
       "\n",
       "    .dataframe thead th {\n",
       "        text-align: right;\n",
       "    }\n",
       "</style>\n",
       "<table border=\"1\" class=\"dataframe\">\n",
       "  <thead>\n",
       "    <tr style=\"text-align: right;\">\n",
       "      <th></th>\n",
       "      <th>date_UTC</th>\n",
       "      <th>product</th>\n",
       "      <th>filename</th>\n",
       "      <th>URL</th>\n",
       "      <th>cloud_percent</th>\n",
       "      <th>level</th>\n",
       "      <th>datetime_UTC</th>\n",
       "      <th>orbit</th>\n",
       "      <th>scene</th>\n",
       "      <th>collection</th>\n",
       "      <th>type</th>\n",
       "      <th>geometry</th>\n",
       "    </tr>\n",
       "  </thead>\n",
       "  <tbody>\n",
       "    <tr>\n",
       "      <th>0</th>\n",
       "      <td>2023-06-02</td>\n",
       "      <td>L2A_RFL</td>\n",
       "      <td>EMIT_L2A_RFL_001_20230602T193753_2315313_003.nc</td>\n",
       "      <td>https://data.lpdaac.earthdatacloud.nasa.gov/lp...</td>\n",
       "      <td>17</td>\n",
       "      <td>L2A</td>\n",
       "      <td>2023-06-02 19:37:53</td>\n",
       "      <td>2315313</td>\n",
       "      <td>3</td>\n",
       "      <td>1</td>\n",
       "      <td>data</td>\n",
       "      <td>MULTIPOLYGON (((-115.69995 33.0349, -116.4238 ...</td>\n",
       "    </tr>\n",
       "    <tr>\n",
       "      <th>1</th>\n",
       "      <td>2023-06-02</td>\n",
       "      <td>L2A_RFLUNCERT</td>\n",
       "      <td>EMIT_L2A_RFLUNCERT_001_20230602T193753_2315313...</td>\n",
       "      <td>https://data.lpdaac.earthdatacloud.nasa.gov/lp...</td>\n",
       "      <td>17</td>\n",
       "      <td>L2A</td>\n",
       "      <td>2023-06-02 19:37:53</td>\n",
       "      <td>2315313</td>\n",
       "      <td>3</td>\n",
       "      <td>1</td>\n",
       "      <td>data</td>\n",
       "      <td>MULTIPOLYGON (((-115.69995 33.0349, -116.4238 ...</td>\n",
       "    </tr>\n",
       "    <tr>\n",
       "      <th>2</th>\n",
       "      <td>2023-06-02</td>\n",
       "      <td>L2A_MASK</td>\n",
       "      <td>EMIT_L2A_MASK_001_20230602T193753_2315313_003.nc</td>\n",
       "      <td>https://data.lpdaac.earthdatacloud.nasa.gov/lp...</td>\n",
       "      <td>17</td>\n",
       "      <td>L2A</td>\n",
       "      <td>2023-06-02 19:37:53</td>\n",
       "      <td>2315313</td>\n",
       "      <td>3</td>\n",
       "      <td>1</td>\n",
       "      <td>data</td>\n",
       "      <td>MULTIPOLYGON (((-115.69995 33.0349, -116.4238 ...</td>\n",
       "    </tr>\n",
       "    <tr>\n",
       "      <th>3</th>\n",
       "      <td>2023-06-02</td>\n",
       "      <td>L2A_RFL</td>\n",
       "      <td>EMIT_L2A_RFL_001_20230602T193753_2315313_003.png</td>\n",
       "      <td>https://data.lpdaac.earthdatacloud.nasa.gov/lp...</td>\n",
       "      <td>17</td>\n",
       "      <td>L2A</td>\n",
       "      <td>2023-06-02 19:37:53</td>\n",
       "      <td>2315313</td>\n",
       "      <td>3</td>\n",
       "      <td>1</td>\n",
       "      <td>browse</td>\n",
       "      <td>MULTIPOLYGON (((-115.69995 33.0349, -116.4238 ...</td>\n",
       "    </tr>\n",
       "    <tr>\n",
       "      <th>4</th>\n",
       "      <td>2023-06-02</td>\n",
       "      <td>L2A_RFL</td>\n",
       "      <td>EMIT_L2A_RFL_001_20230602T193753_2315313_003.n...</td>\n",
       "      <td>https://data.lpdaac.earthdatacloud.nasa.gov/lp...</td>\n",
       "      <td>17</td>\n",
       "      <td>L2A</td>\n",
       "      <td>2023-06-02 19:37:53</td>\n",
       "      <td>2315313</td>\n",
       "      <td>3</td>\n",
       "      <td>1</td>\n",
       "      <td>unknown</td>\n",
       "      <td>MULTIPOLYGON (((-115.69995 33.0349, -116.4238 ...</td>\n",
       "    </tr>\n",
       "    <tr>\n",
       "      <th>...</th>\n",
       "      <td>...</td>\n",
       "      <td>...</td>\n",
       "      <td>...</td>\n",
       "      <td>...</td>\n",
       "      <td>...</td>\n",
       "      <td>...</td>\n",
       "      <td>...</td>\n",
       "      <td>...</td>\n",
       "      <td>...</td>\n",
       "      <td>...</td>\n",
       "      <td>...</td>\n",
       "      <td>...</td>\n",
       "    </tr>\n",
       "    <tr>\n",
       "      <th>2</th>\n",
       "      <td>2024-05-21</td>\n",
       "      <td>L2A_RFL</td>\n",
       "      <td>EMIT_L2A_RFL_001_20240521T232740_2414216_004.png</td>\n",
       "      <td>https://data.lpdaac.earthdatacloud.nasa.gov/lp...</td>\n",
       "      <td>8</td>\n",
       "      <td>L2A</td>\n",
       "      <td>2024-05-21 23:27:40</td>\n",
       "      <td>2414216</td>\n",
       "      <td>4</td>\n",
       "      <td>1</td>\n",
       "      <td>browse</td>\n",
       "      <td>MULTIPOLYGON (((-114.70493 34.57001, -115.4730...</td>\n",
       "    </tr>\n",
       "    <tr>\n",
       "      <th>3</th>\n",
       "      <td>2024-05-21</td>\n",
       "      <td>L2A_MASK</td>\n",
       "      <td>EMIT_L2A_MASK_001_20240521T232740_2414216_004.nc</td>\n",
       "      <td>https://data.lpdaac.earthdatacloud.nasa.gov/lp...</td>\n",
       "      <td>8</td>\n",
       "      <td>L2A</td>\n",
       "      <td>2024-05-21 23:27:40</td>\n",
       "      <td>2414216</td>\n",
       "      <td>4</td>\n",
       "      <td>1</td>\n",
       "      <td>data</td>\n",
       "      <td>MULTIPOLYGON (((-114.70493 34.57001, -115.4730...</td>\n",
       "    </tr>\n",
       "    <tr>\n",
       "      <th>4</th>\n",
       "      <td>2024-05-21</td>\n",
       "      <td>L2A_RFL</td>\n",
       "      <td>EMIT_L2A_RFL_001_20240521T232740_2414216_004.n...</td>\n",
       "      <td>https://data.lpdaac.earthdatacloud.nasa.gov/lp...</td>\n",
       "      <td>8</td>\n",
       "      <td>L2A</td>\n",
       "      <td>2024-05-21 23:27:40</td>\n",
       "      <td>2414216</td>\n",
       "      <td>4</td>\n",
       "      <td>1</td>\n",
       "      <td>unknown</td>\n",
       "      <td>MULTIPOLYGON (((-114.70493 34.57001, -115.4730...</td>\n",
       "    </tr>\n",
       "    <tr>\n",
       "      <th>5</th>\n",
       "      <td>2024-05-21</td>\n",
       "      <td>L2A_RFLUNCERT</td>\n",
       "      <td>EMIT_L2A_RFLUNCERT_001_20240521T232740_2414216...</td>\n",
       "      <td>https://data.lpdaac.earthdatacloud.nasa.gov/lp...</td>\n",
       "      <td>8</td>\n",
       "      <td>L2A</td>\n",
       "      <td>2024-05-21 23:27:40</td>\n",
       "      <td>2414216</td>\n",
       "      <td>4</td>\n",
       "      <td>1</td>\n",
       "      <td>unknown</td>\n",
       "      <td>MULTIPOLYGON (((-114.70493 34.57001, -115.4730...</td>\n",
       "    </tr>\n",
       "    <tr>\n",
       "      <th>6</th>\n",
       "      <td>2024-05-21</td>\n",
       "      <td>L2A_MASK</td>\n",
       "      <td>EMIT_L2A_MASK_001_20240521T232740_2414216_004....</td>\n",
       "      <td>https://data.lpdaac.earthdatacloud.nasa.gov/lp...</td>\n",
       "      <td>8</td>\n",
       "      <td>L2A</td>\n",
       "      <td>2024-05-21 23:27:40</td>\n",
       "      <td>2414216</td>\n",
       "      <td>4</td>\n",
       "      <td>1</td>\n",
       "      <td>unknown</td>\n",
       "      <td>MULTIPOLYGON (((-114.70493 34.57001, -115.4730...</td>\n",
       "    </tr>\n",
       "  </tbody>\n",
       "</table>\n",
       "<p>315 rows × 12 columns</p>\n",
       "</div>"
      ],
      "text/plain": [
       "      date_UTC        product  \\\n",
       "0   2023-06-02        L2A_RFL   \n",
       "1   2023-06-02  L2A_RFLUNCERT   \n",
       "2   2023-06-02       L2A_MASK   \n",
       "3   2023-06-02        L2A_RFL   \n",
       "4   2023-06-02        L2A_RFL   \n",
       "..         ...            ...   \n",
       "2   2024-05-21        L2A_RFL   \n",
       "3   2024-05-21       L2A_MASK   \n",
       "4   2024-05-21        L2A_RFL   \n",
       "5   2024-05-21  L2A_RFLUNCERT   \n",
       "6   2024-05-21       L2A_MASK   \n",
       "\n",
       "                                             filename  \\\n",
       "0     EMIT_L2A_RFL_001_20230602T193753_2315313_003.nc   \n",
       "1   EMIT_L2A_RFLUNCERT_001_20230602T193753_2315313...   \n",
       "2    EMIT_L2A_MASK_001_20230602T193753_2315313_003.nc   \n",
       "3    EMIT_L2A_RFL_001_20230602T193753_2315313_003.png   \n",
       "4   EMIT_L2A_RFL_001_20230602T193753_2315313_003.n...   \n",
       "..                                                ...   \n",
       "2    EMIT_L2A_RFL_001_20240521T232740_2414216_004.png   \n",
       "3    EMIT_L2A_MASK_001_20240521T232740_2414216_004.nc   \n",
       "4   EMIT_L2A_RFL_001_20240521T232740_2414216_004.n...   \n",
       "5   EMIT_L2A_RFLUNCERT_001_20240521T232740_2414216...   \n",
       "6   EMIT_L2A_MASK_001_20240521T232740_2414216_004....   \n",
       "\n",
       "                                                  URL cloud_percent level  \\\n",
       "0   https://data.lpdaac.earthdatacloud.nasa.gov/lp...            17   L2A   \n",
       "1   https://data.lpdaac.earthdatacloud.nasa.gov/lp...            17   L2A   \n",
       "2   https://data.lpdaac.earthdatacloud.nasa.gov/lp...            17   L2A   \n",
       "3   https://data.lpdaac.earthdatacloud.nasa.gov/lp...            17   L2A   \n",
       "4   https://data.lpdaac.earthdatacloud.nasa.gov/lp...            17   L2A   \n",
       "..                                                ...           ...   ...   \n",
       "2   https://data.lpdaac.earthdatacloud.nasa.gov/lp...             8   L2A   \n",
       "3   https://data.lpdaac.earthdatacloud.nasa.gov/lp...             8   L2A   \n",
       "4   https://data.lpdaac.earthdatacloud.nasa.gov/lp...             8   L2A   \n",
       "5   https://data.lpdaac.earthdatacloud.nasa.gov/lp...             8   L2A   \n",
       "6   https://data.lpdaac.earthdatacloud.nasa.gov/lp...             8   L2A   \n",
       "\n",
       "          datetime_UTC    orbit  scene  collection     type  \\\n",
       "0  2023-06-02 19:37:53  2315313      3           1     data   \n",
       "1  2023-06-02 19:37:53  2315313      3           1     data   \n",
       "2  2023-06-02 19:37:53  2315313      3           1     data   \n",
       "3  2023-06-02 19:37:53  2315313      3           1   browse   \n",
       "4  2023-06-02 19:37:53  2315313      3           1  unknown   \n",
       "..                 ...      ...    ...         ...      ...   \n",
       "2  2024-05-21 23:27:40  2414216      4           1   browse   \n",
       "3  2024-05-21 23:27:40  2414216      4           1     data   \n",
       "4  2024-05-21 23:27:40  2414216      4           1  unknown   \n",
       "5  2024-05-21 23:27:40  2414216      4           1  unknown   \n",
       "6  2024-05-21 23:27:40  2414216      4           1  unknown   \n",
       "\n",
       "                                             geometry  \n",
       "0   MULTIPOLYGON (((-115.69995 33.0349, -116.4238 ...  \n",
       "1   MULTIPOLYGON (((-115.69995 33.0349, -116.4238 ...  \n",
       "2   MULTIPOLYGON (((-115.69995 33.0349, -116.4238 ...  \n",
       "3   MULTIPOLYGON (((-115.69995 33.0349, -116.4238 ...  \n",
       "4   MULTIPOLYGON (((-115.69995 33.0349, -116.4238 ...  \n",
       "..                                                ...  \n",
       "2   MULTIPOLYGON (((-114.70493 34.57001, -115.4730...  \n",
       "3   MULTIPOLYGON (((-114.70493 34.57001, -115.4730...  \n",
       "4   MULTIPOLYGON (((-114.70493 34.57001, -115.4730...  \n",
       "5   MULTIPOLYGON (((-114.70493 34.57001, -115.4730...  \n",
       "6   MULTIPOLYGON (((-114.70493 34.57001, -115.4730...  \n",
       "\n",
       "[315 rows x 12 columns]"
      ]
     },
     "execution_count": 4,
     "metadata": {},
     "output_type": "execute_result"
    }
   ],
   "source": [
    "reflectance_granules_df = search_EMIT_L2A_reflectance(\n",
    "    start_date=start_date, \n",
    "    end_date=end_date, \n",
    "    target_area=polygon\n",
    ")\n",
    "\n",
    "reflectance_granules_df"
   ]
  },
  {
   "cell_type": "code",
   "execution_count": 5,
   "metadata": {},
   "outputs": [
    {
     "data": {
      "text/plain": [
       "'https://data.lpdaac.earthdatacloud.nasa.gov/lp-prod-protected/EMITL2ARFL.001/EMIT_L2A_RFL_001_20230602T193753_2315313_003/EMIT_L2A_RFL_001_20230602T193753_2315313_003.nc'"
      ]
     },
     "execution_count": 5,
     "metadata": {},
     "output_type": "execute_result"
    }
   ],
   "source": [
    "URL = reflectance_granules_df.iloc[0].URL\n",
    "URL"
   ]
  },
  {
   "cell_type": "code",
   "execution_count": 6,
   "metadata": {},
   "outputs": [
    {
     "data": {
      "text/plain": [
       "'EMIT_L2A_RFL_001_20230602T193753_2315313_003.nc'"
      ]
     },
     "execution_count": 6,
     "metadata": {},
     "output_type": "execute_result"
    }
   ],
   "source": [
    "filename_base = reflectance_granules_df.iloc[0].filename\n",
    "filename_base"
   ]
  },
  {
   "cell_type": "code",
   "execution_count": 7,
   "metadata": {},
   "outputs": [
    {
     "data": {
      "text/plain": [
       "'~/data/EMIT_download/EMIT_L2A_RFL_001_20230602T193753_2315313_003.nc'"
      ]
     },
     "execution_count": 7,
     "metadata": {},
     "output_type": "execute_result"
    }
   ],
   "source": [
    "filename = join(\"~/data/EMIT_download\", filename_base)\n",
    "filename"
   ]
  },
  {
   "cell_type": "code",
   "execution_count": 8,
   "metadata": {},
   "outputs": [
    {
     "name": "stdout",
     "output_type": "stream",
     "text": [
      "[2025-01-02 18:50:34 INFO] File already downloaded: \u001b[34m~/data/EMIT_download/EMIT_L2A_RFL_001_20230602T193753_2315313_003.nc\u001b[0m\n"
     ]
    },
    {
     "data": {
      "text/plain": [
       "'~/data/EMIT_download/EMIT_L2A_RFL_001_20230602T193753_2315313_003.nc'"
      ]
     },
     "execution_count": 8,
     "metadata": {},
     "output_type": "execute_result"
    }
   ],
   "source": [
    "download_file(URL, filename, capture_output=False, show_command=True)"
   ]
  },
  {
   "cell_type": "code",
   "execution_count": 9,
   "metadata": {},
   "outputs": [],
   "source": [
    "directory = \"~/data/EMIT_download/scene_directory\"\n",
    "parent_directory = \"~/data/EMIT_download\""
   ]
  },
  {
   "cell_type": "code",
   "execution_count": 11,
   "metadata": {},
   "outputs": [
    {
     "name": "stdout",
     "output_type": "stream",
     "text": [
      "https://data.lpdaac.earthdatacloud.nasa.gov/lp-prod-protected/EMITL2ARFL.001/EMIT_L2A_RFL_001_20240521T232716_2414216_002/EMIT_L2A_RFL_001_20240521T232716_2414216_002.nc\n",
      "[2025-01-02 18:56:10 INFO] Downloading: \u001b[34mhttps://data.lpdaac.earthdatacloud.nasa.gov/lp-prod-protected/EMITL2ARFL.001/EMIT_L2A_RFL_001_20240521T232716_2414216_002/EMIT_L2A_RFL_001_20240521T232716_2414216_002.nc\u001b[0m -> \u001b[34m~/data/EMIT_download/EMIT_L2A_RFL_001_20240521T232716_2414216_002/EMIT_L2A_RFL_001_20240521T232716_2414216_002.nc\u001b[0m\n"
     ]
    },
    {
     "name": "stdout",
     "output_type": "stream",
     "text": [
      "[2025-01-02 18:56:10 INFO] Completed download in \u001b[32m0.02\u001b[0m seconds: \u001b[34m~/data/EMIT_download/EMIT_L2A_RFL_001_20240521T232716_2414216_002/EMIT_L2A_RFL_001_20240521T232716_2414216_002.nc\u001b[0m\n",
      "\u001b[31m[2025-01-02 18:56:10 ERROR] Error on attempt 1: Failed to download URL: https://data.lpdaac.earthdatacloud.nasa.gov/lp-prod-protected/EMITL2ARFL.001/EMIT_L2A_RFL_001_20240521T232716_2414216_002/EMIT_L2A_RFL_001_20240521T232716_2414216_002.nc, attempt 1\n",
      "Traceback (most recent call last):\n",
      "  File \"/Users/gregoryhalverson/Projects/emit_tools/emit_tools/download_file.py\", line 93, in download_file\n",
      "    raise DownloadFailed(f\"Failed to download URL: {URL}, attempt {attempts + 1}\")\n",
      "emit_tools.download_file.DownloadFailed: Failed to download URL: https://data.lpdaac.earthdatacloud.nasa.gov/lp-prod-protected/EMITL2ARFL.001/EMIT_L2A_RFL_001_20240521T232716_2414216_002/EMIT_L2A_RFL_001_20240521T232716_2414216_002.nc, attempt 1\u001b[0m\n",
      "\u001b[33m[2025-01-02 18:56:10 WARNING] Waiting for 60 seconds before retrying...\u001b[0m\n",
      "[2025-01-02 18:57:10 INFO] Downloading: \u001b[34mhttps://data.lpdaac.earthdatacloud.nasa.gov/lp-prod-protected/EMITL2ARFL.001/EMIT_L2A_RFL_001_20240521T232716_2414216_002/EMIT_L2A_RFL_001_20240521T232716_2414216_002.nc\u001b[0m -> \u001b[34m~/data/EMIT_download/EMIT_L2A_RFL_001_20240521T232716_2414216_002/EMIT_L2A_RFL_001_20240521T232716_2414216_002.nc\u001b[0m\n",
      "[2025-01-02 18:57:10 INFO] Completed download in \u001b[32m0.02\u001b[0m seconds: \u001b[34m~/data/EMIT_download/EMIT_L2A_RFL_001_20240521T232716_2414216_002/EMIT_L2A_RFL_001_20240521T232716_2414216_002.nc\u001b[0m\n",
      "\u001b[31m[2025-01-02 18:57:10 ERROR] Error on attempt 2: Failed to download URL: https://data.lpdaac.earthdatacloud.nasa.gov/lp-prod-protected/EMITL2ARFL.001/EMIT_L2A_RFL_001_20240521T232716_2414216_002/EMIT_L2A_RFL_001_20240521T232716_2414216_002.nc, attempt 2\n",
      "Traceback (most recent call last):\n",
      "  File \"/Users/gregoryhalverson/Projects/emit_tools/emit_tools/download_file.py\", line 93, in download_file\n",
      "    raise DownloadFailed(f\"Failed to download URL: {URL}, attempt {attempts + 1}\")\n",
      "emit_tools.download_file.DownloadFailed: Failed to download URL: https://data.lpdaac.earthdatacloud.nasa.gov/lp-prod-protected/EMITL2ARFL.001/EMIT_L2A_RFL_001_20240521T232716_2414216_002/EMIT_L2A_RFL_001_20240521T232716_2414216_002.nc, attempt 2\u001b[0m\n",
      "\u001b[33m[2025-01-02 18:57:10 WARNING] Waiting for 60 seconds before retrying...\u001b[0m\n",
      "[2025-01-02 18:58:10 INFO] Downloading: \u001b[34mhttps://data.lpdaac.earthdatacloud.nasa.gov/lp-prod-protected/EMITL2ARFL.001/EMIT_L2A_RFL_001_20240521T232716_2414216_002/EMIT_L2A_RFL_001_20240521T232716_2414216_002.nc\u001b[0m -> \u001b[34m~/data/EMIT_download/EMIT_L2A_RFL_001_20240521T232716_2414216_002/EMIT_L2A_RFL_001_20240521T232716_2414216_002.nc\u001b[0m\n",
      "[2025-01-02 18:58:10 INFO] Completed download in \u001b[32m0.02\u001b[0m seconds: \u001b[34m~/data/EMIT_download/EMIT_L2A_RFL_001_20240521T232716_2414216_002/EMIT_L2A_RFL_001_20240521T232716_2414216_002.nc\u001b[0m\n",
      "\u001b[31m[2025-01-02 18:58:10 ERROR] Error on attempt 3: Failed to download URL: https://data.lpdaac.earthdatacloud.nasa.gov/lp-prod-protected/EMITL2ARFL.001/EMIT_L2A_RFL_001_20240521T232716_2414216_002/EMIT_L2A_RFL_001_20240521T232716_2414216_002.nc, attempt 3\n",
      "Traceback (most recent call last):\n",
      "  File \"/Users/gregoryhalverson/Projects/emit_tools/emit_tools/download_file.py\", line 93, in download_file\n",
      "    raise DownloadFailed(f\"Failed to download URL: {URL}, attempt {attempts + 1}\")\n",
      "emit_tools.download_file.DownloadFailed: Failed to download URL: https://data.lpdaac.earthdatacloud.nasa.gov/lp-prod-protected/EMITL2ARFL.001/EMIT_L2A_RFL_001_20240521T232716_2414216_002/EMIT_L2A_RFL_001_20240521T232716_2414216_002.nc, attempt 3\u001b[0m\n",
      "\u001b[33m[2025-01-02 18:58:10 WARNING] Waiting for 60 seconds before retrying...\u001b[0m\n"
     ]
    },
    {
     "ename": "DownloadFailed",
     "evalue": "Failed to download file after 3 attempts: https://data.lpdaac.earthdatacloud.nasa.gov/lp-prod-protected/EMITL2ARFL.001/EMIT_L2A_RFL_001_20240521T232716_2414216_002/EMIT_L2A_RFL_001_20240521T232716_2414216_002.nc",
     "output_type": "error",
     "traceback": [
      "\u001b[0;31m---------------------------------------------------------------------------\u001b[0m",
      "\u001b[0;31mDownloadFailed\u001b[0m                            Traceback (most recent call last)",
      "Cell \u001b[0;32mIn[11], line 4\u001b[0m\n\u001b[1;32m      1\u001b[0m orbit \u001b[38;5;241m=\u001b[39m \u001b[38;5;241m2414216\u001b[39m\n\u001b[1;32m      2\u001b[0m scene \u001b[38;5;241m=\u001b[39m \u001b[38;5;241m2\u001b[39m\n\u001b[0;32m----> 4\u001b[0m \u001b[43mdownload_EMIT_L2A_scene\u001b[49m\u001b[43m(\u001b[49m\n\u001b[1;32m      5\u001b[0m \u001b[43m    \u001b[49m\u001b[43morbit\u001b[49m\u001b[38;5;241;43m=\u001b[39;49m\u001b[43morbit\u001b[49m\u001b[43m,\u001b[49m\n\u001b[1;32m      6\u001b[0m \u001b[43m    \u001b[49m\u001b[43mscene\u001b[49m\u001b[38;5;241;43m=\u001b[39;49m\u001b[43mscene\u001b[49m\u001b[43m,\u001b[49m\n\u001b[1;32m      7\u001b[0m \u001b[43m    \u001b[49m\u001b[43mparent_directory\u001b[49m\u001b[38;5;241;43m=\u001b[39;49m\u001b[43mparent_directory\u001b[49m\u001b[43m,\u001b[49m\n\u001b[1;32m      8\u001b[0m \u001b[43m    \u001b[49m\u001b[43mCMR_results_df\u001b[49m\u001b[38;5;241;43m=\u001b[39;49m\u001b[43mreflectance_granules_df\u001b[49m\n\u001b[1;32m      9\u001b[0m \u001b[43m)\u001b[49m\n",
      "File \u001b[0;32m~/Projects/emit_tools/emit_tools/download_EMIT_L2A_scene.py:67\u001b[0m, in \u001b[0;36mdownload_EMIT_L2A_scene\u001b[0;34m(orbit, scene, parent_directory, directory, CMR_results_df)\u001b[0m\n\u001b[1;32m     64\u001b[0m filename \u001b[38;5;241m=\u001b[39m join(directory, filename_base)\n\u001b[1;32m     66\u001b[0m \u001b[38;5;66;03m# Download the file from the URL and save it to the specified directory\u001b[39;00m\n\u001b[0;32m---> 67\u001b[0m \u001b[43mdownload_file\u001b[49m\u001b[43m(\u001b[49m\u001b[43mURL\u001b[49m\u001b[43m,\u001b[49m\u001b[43m \u001b[49m\u001b[43mfilename\u001b[49m\u001b[43m)\u001b[49m\n\u001b[1;32m     69\u001b[0m \u001b[38;5;66;03m# Append the downloaded filename to the list\u001b[39;00m\n\u001b[1;32m     70\u001b[0m downloaded_files\u001b[38;5;241m.\u001b[39mappend(filename)\n",
      "File \u001b[0;32m~/Projects/emit_tools/emit_tools/download_file.py:118\u001b[0m, in \u001b[0;36mdownload_file\u001b[0;34m(URL, filename, retries, wait_seconds, capture_output, show_command)\u001b[0m\n\u001b[1;32m    115\u001b[0m         attempts \u001b[38;5;241m+\u001b[39m\u001b[38;5;241m=\u001b[39m \u001b[38;5;241m1\u001b[39m  \u001b[38;5;66;03m# Increment the attempt count\u001b[39;00m\n\u001b[1;32m    117\u001b[0m \u001b[38;5;66;03m# Raise an exception if all attempts fail\u001b[39;00m\n\u001b[0;32m--> 118\u001b[0m \u001b[38;5;28;01mraise\u001b[39;00m DownloadFailed(\u001b[38;5;124mf\u001b[39m\u001b[38;5;124m\"\u001b[39m\u001b[38;5;124mFailed to download file after \u001b[39m\u001b[38;5;132;01m{\u001b[39;00mretries\u001b[38;5;132;01m}\u001b[39;00m\u001b[38;5;124m attempts: \u001b[39m\u001b[38;5;132;01m{\u001b[39;00mURL\u001b[38;5;132;01m}\u001b[39;00m\u001b[38;5;124m\"\u001b[39m)\n",
      "\u001b[0;31mDownloadFailed\u001b[0m: Failed to download file after 3 attempts: https://data.lpdaac.earthdatacloud.nasa.gov/lp-prod-protected/EMITL2ARFL.001/EMIT_L2A_RFL_001_20240521T232716_2414216_002/EMIT_L2A_RFL_001_20240521T232716_2414216_002.nc"
     ]
    }
   ],
   "source": [
    "orbit = 2414216\n",
    "scene = 2\n",
    "\n",
    "download_EMIT_L2A_scene(\n",
    "    orbit=orbit,\n",
    "    scene=scene,\n",
    "    parent_directory=parent_directory,\n",
    "    CMR_results_df=reflectance_granules_df\n",
    ")"
   ]
  },
  {
   "cell_type": "code",
   "execution_count": null,
   "metadata": {},
   "outputs": [],
   "source": [
    "df = reflectance_granules_df.copy()\n",
    "\n",
    "# Filter the DataFrame to include only rows with the specified orbit number\n",
    "df = df[df.orbit == orbit]\n",
    "\n",
    "# Further filter the DataFrame to include only rows with the specified scene number\n",
    "df = df[df.scene == scene]\n",
    "\n",
    "df"
   ]
  },
  {
   "cell_type": "code",
   "execution_count": null,
   "metadata": {},
   "outputs": [],
   "source": [
    "str(df[df.filename.apply(lambda filename: filename.endswith(\".png\"))].iloc[0].filename)"
   ]
  },
  {
   "cell_type": "code",
   "execution_count": null,
   "metadata": {},
   "outputs": [],
   "source": []
  }
 ],
 "metadata": {
  "kernelspec": {
   "display_name": "earthaccess",
   "language": "python",
   "name": "python3"
  },
  "language_info": {
   "codemirror_mode": {
    "name": "ipython",
    "version": 3
   },
   "file_extension": ".py",
   "mimetype": "text/x-python",
   "name": "python",
   "nbconvert_exporter": "python",
   "pygments_lexer": "ipython3",
   "version": "3.11.10"
  }
 },
 "nbformat": 4,
 "nbformat_minor": 4
}
